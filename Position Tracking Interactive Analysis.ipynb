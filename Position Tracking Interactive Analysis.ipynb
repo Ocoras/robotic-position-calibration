{
 "cells": [
  {
   "cell_type": "markdown",
   "metadata": {},
   "source": [
    "# Position Tracking Comparison\n",
    "This notebook allows interactive analysis of the data collected by the Turtlebot and Webcam.\n",
    "### Importing Libraries"
   ]
  },
  {
   "cell_type": "code",
   "execution_count": 1,
   "metadata": {},
   "outputs": [],
   "source": [
    "%matplotlib inline"
   ]
  },
  {
   "cell_type": "code",
   "execution_count": 2,
   "metadata": {},
   "outputs": [],
   "source": [
    "from datetime import datetime, timezone\n",
    "import pandas as pd\n",
    "import numpy as np\n",
    "import matplotlib.pyplot as plt\n",
    "import ipywidgets as widgets\n",
    "from ipywidgets import interact, interactive, IntSlider"
   ]
  },
  {
   "cell_type": "markdown",
   "metadata": {},
   "source": [
    "### Importing Data\n",
    "We define the time as variables since they are reused for the two data files."
   ]
  },
  {
   "cell_type": "code",
   "execution_count": 3,
   "metadata": {},
   "outputs": [],
   "source": [
    "year = 2020\n",
    "month = 3\n",
    "day = 10\n",
    "robotTime = [16, 59]\n",
    "webcamTime = [16, 59, 57, 143959]"
   ]
  },
  {
   "cell_type": "code",
   "execution_count": 4,
   "metadata": {},
   "outputs": [
    {
     "data": {
      "text/html": [
       "<div>\n",
       "<style scoped>\n",
       "    .dataframe tbody tr th:only-of-type {\n",
       "        vertical-align: middle;\n",
       "    }\n",
       "\n",
       "    .dataframe tbody tr th {\n",
       "        vertical-align: top;\n",
       "    }\n",
       "\n",
       "    .dataframe thead th {\n",
       "        text-align: right;\n",
       "    }\n",
       "</style>\n",
       "<table border=\"1\" class=\"dataframe\">\n",
       "  <thead>\n",
       "    <tr style=\"text-align: right;\">\n",
       "      <th></th>\n",
       "      <th></th>\n",
       "      <th>x(m)</th>\n",
       "      <th>y(m)</th>\n",
       "      <th>Theta(rad)</th>\n",
       "    </tr>\n",
       "    <tr>\n",
       "      <th>Data Source</th>\n",
       "      <th>Timestamp</th>\n",
       "      <th></th>\n",
       "      <th></th>\n",
       "      <th></th>\n",
       "    </tr>\n",
       "  </thead>\n",
       "  <tbody>\n",
       "    <tr>\n",
       "      <th rowspan=\"11\" valign=\"top\">robot</th>\n",
       "      <th>2020-03-10 16:59:29.357132+00:00</th>\n",
       "      <td>0.032879</td>\n",
       "      <td>-0.000032</td>\n",
       "      <td>-0.001227</td>\n",
       "    </tr>\n",
       "    <tr>\n",
       "      <th>2020-03-10 16:59:29.368927+00:00</th>\n",
       "      <td>0.032879</td>\n",
       "      <td>-0.000032</td>\n",
       "      <td>-0.001175</td>\n",
       "    </tr>\n",
       "    <tr>\n",
       "      <th>2020-03-10 16:59:29.384136+00:00</th>\n",
       "      <td>0.032879</td>\n",
       "      <td>-0.000032</td>\n",
       "      <td>-0.001248</td>\n",
       "    </tr>\n",
       "    <tr>\n",
       "      <th>2020-03-10 16:59:29.429560+00:00</th>\n",
       "      <td>0.032879</td>\n",
       "      <td>-0.000032</td>\n",
       "      <td>-0.001107</td>\n",
       "    </tr>\n",
       "    <tr>\n",
       "      <th>2020-03-10 16:59:29.489113+00:00</th>\n",
       "      <td>0.032879</td>\n",
       "      <td>-0.000032</td>\n",
       "      <td>-0.001224</td>\n",
       "    </tr>\n",
       "    <tr>\n",
       "      <th>...</th>\n",
       "      <td>...</td>\n",
       "      <td>...</td>\n",
       "      <td>...</td>\n",
       "    </tr>\n",
       "    <tr>\n",
       "      <th>2020-03-10 17:04:49.430359+00:00</th>\n",
       "      <td>-0.528596</td>\n",
       "      <td>-0.198695</td>\n",
       "      <td>0.409724</td>\n",
       "    </tr>\n",
       "    <tr>\n",
       "      <th>2020-03-10 17:04:49.476599+00:00</th>\n",
       "      <td>-0.528596</td>\n",
       "      <td>-0.198695</td>\n",
       "      <td>0.409707</td>\n",
       "    </tr>\n",
       "    <tr>\n",
       "      <th>2020-03-10 17:04:49.527956+00:00</th>\n",
       "      <td>-0.528596</td>\n",
       "      <td>-0.198695</td>\n",
       "      <td>0.409732</td>\n",
       "    </tr>\n",
       "    <tr>\n",
       "      <th>2020-03-10 17:04:49.582799+00:00</th>\n",
       "      <td>-0.528596</td>\n",
       "      <td>-0.198695</td>\n",
       "      <td>0.409714</td>\n",
       "    </tr>\n",
       "    <tr>\n",
       "      <th>2020-03-10 17:04:49.625220+00:00</th>\n",
       "      <td>-0.528596</td>\n",
       "      <td>-0.198695</td>\n",
       "      <td>0.409757</td>\n",
       "    </tr>\n",
       "  </tbody>\n",
       "</table>\n",
       "<p>14521 rows × 3 columns</p>\n",
       "</div>"
      ],
      "text/plain": [
       "                                                  x(m)      y(m)  Theta(rad)\n",
       "Data Source Timestamp                                                       \n",
       "robot       2020-03-10 16:59:29.357132+00:00  0.032879 -0.000032   -0.001227\n",
       "            2020-03-10 16:59:29.368927+00:00  0.032879 -0.000032   -0.001175\n",
       "            2020-03-10 16:59:29.384136+00:00  0.032879 -0.000032   -0.001248\n",
       "            2020-03-10 16:59:29.429560+00:00  0.032879 -0.000032   -0.001107\n",
       "            2020-03-10 16:59:29.489113+00:00  0.032879 -0.000032   -0.001224\n",
       "...                                                ...       ...         ...\n",
       "            2020-03-10 17:04:49.430359+00:00 -0.528596 -0.198695    0.409724\n",
       "            2020-03-10 17:04:49.476599+00:00 -0.528596 -0.198695    0.409707\n",
       "            2020-03-10 17:04:49.527956+00:00 -0.528596 -0.198695    0.409732\n",
       "            2020-03-10 17:04:49.582799+00:00 -0.528596 -0.198695    0.409714\n",
       "            2020-03-10 17:04:49.625220+00:00 -0.528596 -0.198695    0.409757\n",
       "\n",
       "[14521 rows x 3 columns]"
      ]
     },
     "execution_count": 4,
     "metadata": {},
     "output_type": "execute_result"
    }
   ],
   "source": [
    "# Import robot position data\n",
    "r = pd.read_csv(\n",
    "    \"Turtlebot_position_log-{}-{}-{}-{}:{}.csv\".format(year, month, day, *robotTime),\n",
    "    header=0,\n",
    "    parse_dates=[0],\n",
    "    index_col =0,\n",
    "    infer_datetime_format=True,\n",
    ")\n",
    "# sort by timestamp\n",
    "r = r.sort_values(by=\"Timestamp\")\n",
    "# remove unnecessary empty column (caused by trailing comma)\n",
    "r = r.drop(columns=\"Unnamed: 4\")\n",
    "\n",
    "# Import webcam data\n",
    "w = pd.read_csv(\n",
    "    \"Webcam_position_log-{}-{:02d}-{:02d}T{}:{}:{}.{}.csv\".format(\n",
    "        year, month, day, *webcamTime\n",
    "    ),\n",
    "    header=0,\n",
    "    parse_dates=[0],\n",
    "    index_col =0,\n",
    "    infer_datetime_format=True,\n",
    ")\n",
    "# rename theta column so it matches robot data\n",
    "w = w.rename(columns={\"theta(rad)\": \"Theta(rad)\"})\n",
    "w = w.sort_values(by=\"Timestamp\")\n",
    "w = w.drop(columns=\"Unnamed: 5\")\n",
    "# select just tag 42, and discard the tag ID column from here onwards\n",
    "w = w[w[\"TagID\"] == 42].drop(columns=\"TagID\")\n",
    "\n",
    "df = pd.concat(\n",
    "    [w, r], keys=[\"webcam\", \"robot\"], names=[\"Data Source\", \"Timestamp\"],\n",
    ")\n",
    "df = df.sort_values(by=\"Timestamp\")\n",
    "df"
   ]
  },
  {
   "cell_type": "markdown",
   "metadata": {},
   "source": [
    "### Plotting the two paths\n",
    "We can see here that there is a rotation & translation of the measured robot positions - but what is it? The later functions will explore this."
   ]
  },
  {
   "cell_type": "code",
   "execution_count": 5,
   "metadata": {},
   "outputs": [
    {
     "data": {
      "image/png": "[encoded data removed]",
      "text/plain": [
       "<Figure size 432x288 with 1 Axes>"
      ]
     },
     "metadata": {
      "needs_background": "light"
     },
     "output_type": "display_data"
    }
   ],
   "source": [
    "fig1, ax1 = plt.subplots()\n",
    "\n",
    "ax1.plot(df.loc[(\"robot\",\"x(m)\")], df.loc[(\"robot\",\"y(m)\")],label=\"Robot\",color=\"tab:blue\")\n",
    "ax1.plot(df.loc[(\"webcam\",\"x(m)\")], df.loc[(\"webcam\",\"y(m)\")],label=\"Webcam\",color=\"tab:orange\")\n",
    "ax1.legend()\n",
    "ax1.set_title(\"Path Taken by the Robot\")\n",
    "ax1.set_xlabel(\"x(m)\")\n",
    "ax1.set_ylabel(\"y(m)\")\n",
    "ax1.set_aspect('equal','box')\n",
    "plt.show()"
   ]
  },
  {
   "cell_type": "code",
   "execution_count": 6,
   "metadata": {},
   "outputs": [
    {
     "data": {
      "application/vnd.jupyter.widget-view+json": {
       "model_id": "8841013bc3674802abcc0a7e28bcc492",
       "version_major": 2,
       "version_minor": 0
      },
      "text/plain": [
       "interactive(children=(IntSlider(value=30, description='t_s', max=300, min=30), Output()), _dom_classes=('widge…"
      ]
     },
     "metadata": {},
     "output_type": "display_data"
    }
   ],
   "source": [
    "def arrow_returner(angle, length=0.1):\n",
    "    dx = length * np.cos(angle)\n",
    "    dy = length * np.sin(angle)\n",
    "    return dx, dy\n",
    "\n",
    "def latest_position_at_millisecond(t):\n",
    "    if t < 0:\n",
    "        raise KeyError(\"Cannot get negative time from start of range.\")\n",
    "    # Relative to first timestamp, t*1e6[ns] = t [ms]\n",
    "    time = df.index[0][1] + pd.Timedelta(t*1e6)\n",
    "    if time > df.index[-1][1]:\n",
    "        raise KeyError(\"Requested time outside data range.\")\n",
    "    \n",
    "    # Look for the timestamp (index) at \"time\", if not use last value ->\"pad\"\n",
    "    r_i = df.loc[\"robot\"].index.get_loc(time,method=\"pad\")\n",
    "    w_i = df.loc[\"webcam\"].index.get_loc(time,method=\"pad\")\n",
    "    \n",
    "    # Return the latest data points \n",
    "    return df.loc[\"robot\"].iloc[r_i], df.loc[\"webcam\"].iloc[w_i]\n",
    "\n",
    "\n",
    "\n",
    "\n",
    "from IPython.display import display \n",
    "\n",
    "def plot_pos_at_time(t_s):\n",
    "    r_d, w_d = 0,0\n",
    "    fig2 =plt.figure(figsize=(5, 5), dpi= 150, facecolor='w', edgecolor='k')\n",
    "    ax2 = fig2.add_subplot()\n",
    "    ax2.set_title(\"Path Taken by the Robot\")\n",
    "    ax2.set_xlabel(\"x(m)\")\n",
    "    ax2.set_xlim(-2,2)\n",
    "    ax2.set_ylim(-2,2)\n",
    "    ax2.set_ylabel(\"y(m)\")\n",
    "    ax2.set_aspect('equal','box')\n",
    "    try:\n",
    "        r_d, w_d = latest_position_at_millisecond(t_s*1e3)\n",
    "        ax2.arrow(r_d[\"x(m)\"],r_d[\"y(m)\"],*arrow_returner(r_d[\"Theta(rad)\"]),width=0.05,color=\"tab:blue\")\n",
    "        ax2.arrow(w_d[\"x(m)\"],w_d[\"y(m)\"],*arrow_returner(w_d[\"Theta(rad)\"]),width=0.05,color=\"tab:orange\")       \n",
    "    except KeyError:\n",
    "        display(\"failed\")\n",
    "        pass     \n",
    "    plt.show()\n",
    "    \n",
    "\n",
    "t_slider = IntSlider(min=30,max=300,step=1)\n",
    "\n",
    "\n",
    "interactive(plot_pos_at_time,t_s=t_slider)\n",
    "\n",
    "\n",
    "\n"
   ]
  },
  {
   "cell_type": "code",
   "execution_count": 7,
   "metadata": {},
   "outputs": [
    {
     "data": {
      "application/vnd.jupyter.widget-view+json": {
       "model_id": "a42f6f99bfc4422494ef88e0426e4aef",
       "version_major": 2,
       "version_minor": 0
      },
      "text/plain": [
       "HBox(children=(Play(value=50, description='Press play', interval=200, max=300, min=30), IntSlider(value=30, de…"
      ]
     },
     "metadata": {},
     "output_type": "display_data"
    }
   ],
   "source": [
    "play = widgets.Play(\n",
    "    interval=200,\n",
    "    value=50,\n",
    "    min=30,\n",
    "    max=300,\n",
    "    step=1,\n",
    "    description=\"Press play\",\n",
    "    disabled=False\n",
    ")\n",
    "widgets.jslink((play, 'value'), (t_slider, 'value'))\n",
    "widgets.HBox([play, t_slider])"
   ]
  },
  {
   "cell_type": "code",
   "execution_count": null,
   "metadata": {},
   "outputs": [],
   "source": [
    "\n",
    "\n"
   ]
  }
 ],
 "metadata": {
  "kernelspec": {
   "display_name": "Python 3",
   "language": "python",
   "name": "python3"
  },
  "language_info": {
   "codemirror_mode": {
    "name": "ipython",
    "version": 3
   },
   "file_extension": ".py",
   "mimetype": "text/x-python",
   "name": "python",
   "nbconvert_exporter": "python",
   "pygments_lexer": "ipython3",
   "version": "3.8.2"
  }
 },
 "nbformat": 4,
 "nbformat_minor": 2
}
